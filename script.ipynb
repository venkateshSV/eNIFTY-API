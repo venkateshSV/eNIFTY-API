{
 "cells": [
  {
   "cell_type": "code",
   "execution_count": 1,
   "metadata": {},
   "outputs": [],
   "source": [
    "import tensorflow as tf\n",
    "import numpy as np\n",
    "from tensorflow import keras as kr\n",
    "import matplotlib.pyplot as plt\n",
    "import pandas as pd"
   ]
  },
  {
   "cell_type": "code",
   "execution_count": 40,
   "metadata": {},
   "outputs": [],
   "source": [
    "import sklearn"
   ]
  },
  {
   "cell_type": "code",
   "execution_count": 41,
   "metadata": {},
   "outputs": [],
   "source": [
    "gpus = tf.config.experimental.list_physical_devices('GPU')\n",
    "if gpus:\n",
    "  try:\n",
    "    for gpu in gpus:\n",
    "      tf.config.experimental.set_memory_growth(gpu, True)\n",
    "  except RuntimeError as e:\n",
    "    print(e)"
   ]
  },
  {
   "cell_type": "code",
   "execution_count": 64,
   "metadata": {},
   "outputs": [],
   "source": [
    "data = pd.read_csv('NFT_DATASET1.csv')"
   ]
  },
  {
   "cell_type": "code",
   "execution_count": 65,
   "metadata": {},
   "outputs": [
    {
     "data": {
      "text/plain": [
       "array([['N1', 25.0, 40.0, 10.0, 70.0, 60.0, 20.0, 20.0, 32, 36, 43, 38,\n",
       "        41, 45, 36, 41, 48, 45, 70.0, 20.0, 80.0, 40.0, 45.0, 44.0],\n",
       "       ['N2', 42.0, 22.0, 27.0, 35.0, 19.0, 68.0, 52.0, 71, 71, 72, 64,\n",
       "        71, 70, 68, 63, 64, 67, 56.0, 87.0, 76.0, 60.0, 70.0, 62.0],\n",
       "       ['N3', 35.0, 91.0, 28.0, 70.0, 63.0, 31.0, 45.0, 14, 13, 11, 12,\n",
       "        12, 15, 11, 12, 13, 11, 45.0, 42.0, 89.0, 73.0, 12.0, 12.0],\n",
       "       ['N4', 12.0, 56.0, 18.0, 89.0, 94.0, 13.0, 10.0, 12, 11, 9, 11,\n",
       "        11, 12, 10, 12, 10, 10, 23.0, 54.0, 78.0, 77.0, 9.0, 9.0],\n",
       "       ['N5', 34.0, 73.0, 57.0, 61.0, 93.0, 57.0, 71.0, 99, 93, 97, 98,\n",
       "        93, 94, 96, 100, 94, 91, 68.0, 23.0, 31.0, 92.0, 97.0, 98.0],\n",
       "       ['N6', 54.0, 31.0, 19.0, 11.0, 14.0, 60.0, 60.0, 21, 21, 22, 20,\n",
       "        20, 22, 21, 20, 22, 21, 89.0, 60.0, 42.0, 39.0, 21.0, 20.0],\n",
       "       ['N7', 70.0, 65.0, 48.0, 56.0, 89.0, 68.0, 40.0, 45, 44, 43, 43,\n",
       "        44, 44, 43, 45, 43, 45, 12.0, 64.0, 80.0, 74.0, 43.0, 45.0],\n",
       "       ['N8', 34.0, 72.0, 83.0, 56.0, 72.0, 89.0, 29.0, 17, 15, 16, 16,\n",
       "        16, 16, 17, 15, 17, 15, 90.0, 58.0, 85.0, 64.0, 16.0, 15.0],\n",
       "       ['N9', 11.0, 53.0, 84.0, 57.0, 41.0, 98.0, 33.0, 75, 76, 76, 76,\n",
       "        76, 75, 76, 75, 75, 76, 100.0, 38.0, 77.0, 91.0, 76.0, 78.0],\n",
       "       ['N10', 40.0, 36.0, 25.0, 27.0, 17.0, 68.0, 99.0, 51, 50, 51, 51,\n",
       "        48, 49, 49, 49, 49, 49, 21.0, 80.0, 93.0, 75.0, 50.0, 53.0],\n",
       "       [nan, nan, nan, nan, nan, nan, nan, nan, 3, 5, 6, 8, 7, 5, 8, 10,\n",
       "        11, 12, nan, nan, nan, nan, nan, nan],\n",
       "       [nan, nan, nan, nan, nan, nan, nan, nan, 2, 7, 8, 10, 7, 4, 5, 10,\n",
       "        15, 16, nan, nan, nan, nan, nan, nan],\n",
       "       [nan, nan, nan, nan, nan, nan, nan, nan, 20, 23, 25, 21, 26, 32,\n",
       "        36, 34, 33, 38, nan, nan, nan, nan, nan, nan],\n",
       "       [nan, nan, nan, nan, nan, nan, nan, nan, 15, 20, 23, 29, 36, 42,\n",
       "        39, 35, 29, 47, nan, nan, nan, nan, nan, nan],\n",
       "       [nan, nan, nan, nan, nan, nan, nan, nan, 10, 12, 13, 9, 7, 8, 10,\n",
       "        12, 15, 13, nan, nan, nan, nan, nan, nan],\n",
       "       [nan, nan, nan, nan, nan, nan, nan, nan, 15, 17, 13, 15, 14, 18,\n",
       "        20, 15, 10, 7, nan, nan, nan, nan, nan, nan],\n",
       "       [nan, nan, nan, nan, nan, nan, nan, nan, 1, 3, 4, 2, 4, 5, 6, 2,\n",
       "        3, 4, nan, nan, nan, nan, nan, nan]], dtype=object)"
      ]
     },
     "execution_count": 65,
     "metadata": {},
     "output_type": "execute_result"
    }
   ],
   "source": [
    "data=data.values\n",
    "data"
   ]
  },
  {
   "cell_type": "code",
   "execution_count": 66,
   "metadata": {},
   "outputs": [],
   "source": [
    "X_train = data[:10,8:18]\n",
    "X_test = data[10:,8:18]\n",
    "Y_train = data[:10,23]\n",
    "Y_test = data[10:,23]"
   ]
  },
  {
   "cell_type": "code",
   "execution_count": 67,
   "metadata": {},
   "outputs": [
    {
     "data": {
      "text/plain": [
       "array([[32, 36, 43, 38, 41, 45, 36, 41, 48, 45],\n",
       "       [71, 71, 72, 64, 71, 70, 68, 63, 64, 67],\n",
       "       [14, 13, 11, 12, 12, 15, 11, 12, 13, 11],\n",
       "       [12, 11, 9, 11, 11, 12, 10, 12, 10, 10],\n",
       "       [99, 93, 97, 98, 93, 94, 96, 100, 94, 91],\n",
       "       [21, 21, 22, 20, 20, 22, 21, 20, 22, 21],\n",
       "       [45, 44, 43, 43, 44, 44, 43, 45, 43, 45],\n",
       "       [17, 15, 16, 16, 16, 16, 17, 15, 17, 15],\n",
       "       [75, 76, 76, 76, 76, 75, 76, 75, 75, 76],\n",
       "       [51, 50, 51, 51, 48, 49, 49, 49, 49, 49]], dtype=object)"
      ]
     },
     "execution_count": 67,
     "metadata": {},
     "output_type": "execute_result"
    }
   ],
   "source": [
    "X_train"
   ]
  },
  {
   "cell_type": "code",
   "execution_count": 68,
   "metadata": {},
   "outputs": [
    {
     "data": {
      "text/plain": [
       "array([44.0, 62.0, 12.0, 9.0, 98.0, 20.0, 45.0, 15.0, 78.0, 53.0],\n",
       "      dtype=object)"
      ]
     },
     "execution_count": 68,
     "metadata": {},
     "output_type": "execute_result"
    }
   ],
   "source": [
    "Y_train"
   ]
  },
  {
   "cell_type": "code",
   "execution_count": 69,
   "metadata": {},
   "outputs": [
    {
     "data": {
      "text/plain": [
       "array([[3, 5, 6, 8, 7, 5, 8, 10, 11, 12],\n",
       "       [2, 7, 8, 10, 7, 4, 5, 10, 15, 16],\n",
       "       [20, 23, 25, 21, 26, 32, 36, 34, 33, 38],\n",
       "       [15, 20, 23, 29, 36, 42, 39, 35, 29, 47],\n",
       "       [10, 12, 13, 9, 7, 8, 10, 12, 15, 13],\n",
       "       [15, 17, 13, 15, 14, 18, 20, 15, 10, 7],\n",
       "       [1, 3, 4, 2, 4, 5, 6, 2, 3, 4]], dtype=object)"
      ]
     },
     "execution_count": 69,
     "metadata": {},
     "output_type": "execute_result"
    }
   ],
   "source": [
    "X_test"
   ]
  },
  {
   "cell_type": "code",
   "execution_count": 70,
   "metadata": {},
   "outputs": [
    {
     "data": {
      "text/plain": [
       "array([nan, nan, nan, nan, nan, nan, nan], dtype=object)"
      ]
     },
     "execution_count": 70,
     "metadata": {},
     "output_type": "execute_result"
    }
   ],
   "source": [
    "Y_test"
   ]
  },
  {
   "cell_type": "code",
   "execution_count": 71,
   "metadata": {},
   "outputs": [
    {
     "name": "stdout",
     "output_type": "stream",
     "text": [
      "(10, 10)\n"
     ]
    }
   ],
   "source": [
    "train_data = np.asarray(X_train).astype('float32')\n",
    "train_label = np.asarray(Y_train).astype('float32')\n",
    "\n",
    "print(np.shape(train_data))"
   ]
  },
  {
   "cell_type": "code",
   "execution_count": 55,
   "metadata": {},
   "outputs": [],
   "source": [
    "model = kr.Sequential([\n",
    "    kr.layers.Dense(10, activation='relu', input_shape = (10,)),\n",
    "    kr.layers.Dense(10, activation='relu'),\n",
    "    kr.layers.Dense(10, activation='relu'),\n",
    "    kr.layers.Dense(2, activation='softmax', name='output')\n",
    "])\n",
    "\n",
    "# model.compile(optimizer='SGD', loss= 'categorical_crossentropy', metrics=[\"accuracy\"])\n",
    "model.compile(optimizer='SGD', loss= 'BinaryCrossentropy', metrics=[\"accuracy\"])"
   ]
  },
  {
   "cell_type": "code",
   "execution_count": 39,
   "metadata": {},
   "outputs": [
    {
     "name": "stdout",
     "output_type": "stream",
     "text": [
      "Epoch 1/100\n",
      "1/1 [==============================] - 0s 2ms/step - loss: 10.1541 - accuracy: 0.0000e+00\n",
      "Epoch 2/100\n",
      "1/1 [==============================] - 0s 587us/step - loss: 9.4471 - accuracy: 0.0000e+00\n",
      "Epoch 3/100\n",
      "1/1 [==============================] - 0s 555us/step - loss: 7.0820 - accuracy: 0.0000e+00\n",
      "Epoch 4/100\n",
      "1/1 [==============================] - 0s 573us/step - loss: 5.4309 - accuracy: 0.0000e+00\n",
      "Epoch 5/100\n",
      "1/1 [==============================] - 0s 548us/step - loss: 3.2764 - accuracy: 0.0000e+00\n",
      "Epoch 6/100\n",
      "1/1 [==============================] - 0s 644us/step - loss: 2.4786 - accuracy: 0.0000e+00\n",
      "Epoch 7/100\n",
      "1/1 [==============================] - 0s 579us/step - loss: 8.7742 - accuracy: 0.0000e+00\n",
      "Epoch 8/100\n",
      "1/1 [==============================] - 0s 542us/step - loss: 11.2643 - accuracy: 0.0000e+00\n",
      "Epoch 9/100\n",
      "1/1 [==============================] - 0s 739us/step - loss: 11.2643 - accuracy: 0.0000e+00\n",
      "Epoch 10/100\n",
      "1/1 [==============================] - 0s 595us/step - loss: 11.2643 - accuracy: 0.0000e+00\n",
      "Epoch 11/100\n",
      "1/1 [==============================] - 0s 543us/step - loss: 11.2643 - accuracy: 0.0000e+00\n",
      "Epoch 12/100\n",
      "1/1 [==============================] - 0s 566us/step - loss: 11.2643 - accuracy: 0.0000e+00\n",
      "Epoch 13/100\n",
      "1/1 [==============================] - 0s 555us/step - loss: 11.2643 - accuracy: 0.0000e+00\n",
      "Epoch 14/100\n",
      "1/1 [==============================] - 0s 636us/step - loss: 11.2643 - accuracy: 0.0000e+00\n",
      "Epoch 15/100\n",
      "1/1 [==============================] - 0s 592us/step - loss: 11.2643 - accuracy: 0.0000e+00\n",
      "Epoch 16/100\n",
      "1/1 [==============================] - 0s 587us/step - loss: 11.2643 - accuracy: 0.0000e+00\n",
      "Epoch 17/100\n",
      "1/1 [==============================] - 0s 556us/step - loss: 11.2643 - accuracy: 0.0000e+00\n",
      "Epoch 18/100\n",
      "1/1 [==============================] - 0s 635us/step - loss: 11.2643 - accuracy: 0.0000e+00\n",
      "Epoch 19/100\n",
      "1/1 [==============================] - 0s 681us/step - loss: 11.2643 - accuracy: 0.0000e+00\n",
      "Epoch 20/100\n",
      "1/1 [==============================] - 0s 2ms/step - loss: 11.2643 - accuracy: 0.0000e+00\n",
      "Epoch 21/100\n",
      "1/1 [==============================] - 0s 626us/step - loss: 11.2643 - accuracy: 0.0000e+00\n",
      "Epoch 22/100\n",
      "1/1 [==============================] - 0s 574us/step - loss: 11.2643 - accuracy: 0.0000e+00\n",
      "Epoch 23/100\n",
      "1/1 [==============================] - 0s 574us/step - loss: 11.2643 - accuracy: 0.0000e+00\n",
      "Epoch 24/100\n",
      "1/1 [==============================] - 0s 575us/step - loss: 11.2643 - accuracy: 0.0000e+00\n",
      "Epoch 25/100\n",
      "1/1 [==============================] - 0s 623us/step - loss: 11.2643 - accuracy: 0.0000e+00\n",
      "Epoch 26/100\n",
      "1/1 [==============================] - 0s 615us/step - loss: 11.2643 - accuracy: 0.0000e+00\n",
      "Epoch 27/100\n",
      "1/1 [==============================] - 0s 588us/step - loss: 11.2643 - accuracy: 0.0000e+00\n",
      "Epoch 28/100\n",
      "1/1 [==============================] - 0s 546us/step - loss: 11.2643 - accuracy: 0.0000e+00\n",
      "Epoch 29/100\n",
      "1/1 [==============================] - 0s 587us/step - loss: 11.2643 - accuracy: 0.0000e+00\n",
      "Epoch 30/100\n",
      "1/1 [==============================] - 0s 532us/step - loss: 11.2643 - accuracy: 0.0000e+00\n",
      "Epoch 31/100\n",
      "1/1 [==============================] - 0s 573us/step - loss: 11.2643 - accuracy: 0.0000e+00\n",
      "Epoch 32/100\n",
      "1/1 [==============================] - 0s 551us/step - loss: 11.2643 - accuracy: 0.0000e+00\n",
      "Epoch 33/100\n",
      "1/1 [==============================] - 0s 642us/step - loss: 11.2643 - accuracy: 0.0000e+00\n",
      "Epoch 34/100\n",
      "1/1 [==============================] - 0s 644us/step - loss: 11.2643 - accuracy: 0.0000e+00\n",
      "Epoch 35/100\n",
      "1/1 [==============================] - 0s 548us/step - loss: 11.2643 - accuracy: 0.0000e+00\n",
      "Epoch 36/100\n",
      "1/1 [==============================] - 0s 634us/step - loss: 11.2643 - accuracy: 0.0000e+00\n",
      "Epoch 37/100\n",
      "1/1 [==============================] - 0s 690us/step - loss: 11.2643 - accuracy: 0.0000e+00\n",
      "Epoch 38/100\n",
      "1/1 [==============================] - 0s 583us/step - loss: 11.2643 - accuracy: 0.0000e+00\n",
      "Epoch 39/100\n",
      "1/1 [==============================] - 0s 581us/step - loss: 11.2643 - accuracy: 0.0000e+00\n",
      "Epoch 40/100\n",
      "1/1 [==============================] - 0s 625us/step - loss: 11.2643 - accuracy: 0.0000e+00\n",
      "Epoch 41/100\n",
      "1/1 [==============================] - 0s 529us/step - loss: 11.2643 - accuracy: 0.0000e+00\n",
      "Epoch 42/100\n",
      "1/1 [==============================] - 0s 632us/step - loss: 11.2643 - accuracy: 0.0000e+00\n",
      "Epoch 43/100\n",
      "1/1 [==============================] - 0s 553us/step - loss: 11.2643 - accuracy: 0.0000e+00\n",
      "Epoch 44/100\n",
      "1/1 [==============================] - 0s 614us/step - loss: 11.2643 - accuracy: 0.0000e+00\n",
      "Epoch 45/100\n",
      "1/1 [==============================] - 0s 726us/step - loss: 11.2643 - accuracy: 0.0000e+00\n",
      "Epoch 46/100\n",
      "1/1 [==============================] - 0s 638us/step - loss: 11.2643 - accuracy: 0.0000e+00\n",
      "Epoch 47/100\n",
      "1/1 [==============================] - 0s 610us/step - loss: 11.2643 - accuracy: 0.0000e+00\n",
      "Epoch 48/100\n",
      "1/1 [==============================] - 0s 604us/step - loss: 11.2643 - accuracy: 0.0000e+00\n",
      "Epoch 49/100\n",
      "1/1 [==============================] - 0s 564us/step - loss: 11.2643 - accuracy: 0.0000e+00\n",
      "Epoch 50/100\n",
      "1/1 [==============================] - 0s 536us/step - loss: 11.2643 - accuracy: 0.0000e+00\n",
      "Epoch 51/100\n",
      "1/1 [==============================] - 0s 733us/step - loss: 11.2643 - accuracy: 0.0000e+00\n",
      "Epoch 52/100\n",
      "1/1 [==============================] - 0s 559us/step - loss: 11.2643 - accuracy: 0.0000e+00\n",
      "Epoch 53/100\n",
      "1/1 [==============================] - 0s 507us/step - loss: 11.2643 - accuracy: 0.0000e+00\n",
      "Epoch 54/100\n",
      "1/1 [==============================] - 0s 528us/step - loss: 11.2643 - accuracy: 0.0000e+00\n",
      "Epoch 55/100\n",
      "1/1 [==============================] - 0s 734us/step - loss: 11.2643 - accuracy: 0.0000e+00\n",
      "Epoch 56/100\n",
      "1/1 [==============================] - 0s 523us/step - loss: 11.2643 - accuracy: 0.0000e+00\n",
      "Epoch 57/100\n",
      "1/1 [==============================] - 0s 677us/step - loss: 11.2643 - accuracy: 0.0000e+00\n",
      "Epoch 58/100\n",
      "1/1 [==============================] - 0s 543us/step - loss: 11.2643 - accuracy: 0.0000e+00\n",
      "Epoch 59/100\n",
      "1/1 [==============================] - 0s 604us/step - loss: 11.2643 - accuracy: 0.0000e+00\n",
      "Epoch 60/100\n",
      "1/1 [==============================] - 0s 541us/step - loss: 11.2643 - accuracy: 0.0000e+00\n",
      "Epoch 61/100\n",
      "1/1 [==============================] - 0s 634us/step - loss: 11.2643 - accuracy: 0.0000e+00\n",
      "Epoch 62/100\n",
      "1/1 [==============================] - 0s 621us/step - loss: 11.2643 - accuracy: 0.0000e+00\n",
      "Epoch 63/100\n",
      "1/1 [==============================] - 0s 617us/step - loss: 11.2643 - accuracy: 0.0000e+00\n",
      "Epoch 64/100\n",
      "1/1 [==============================] - 0s 532us/step - loss: 11.2643 - accuracy: 0.0000e+00\n",
      "Epoch 65/100\n",
      "1/1 [==============================] - 0s 579us/step - loss: 11.2643 - accuracy: 0.0000e+00\n",
      "Epoch 66/100\n",
      "1/1 [==============================] - 0s 651us/step - loss: 11.2643 - accuracy: 0.0000e+00\n",
      "Epoch 67/100\n",
      "1/1 [==============================] - 0s 590us/step - loss: 11.2643 - accuracy: 0.0000e+00\n",
      "Epoch 68/100\n",
      "1/1 [==============================] - 0s 591us/step - loss: 11.2643 - accuracy: 0.0000e+00\n",
      "Epoch 69/100\n",
      "1/1 [==============================] - 0s 594us/step - loss: 11.2643 - accuracy: 0.0000e+00\n",
      "Epoch 70/100\n",
      "1/1 [==============================] - 0s 532us/step - loss: 11.2643 - accuracy: 0.0000e+00\n",
      "Epoch 71/100\n",
      "1/1 [==============================] - 0s 602us/step - loss: 11.2643 - accuracy: 0.0000e+00\n",
      "Epoch 72/100\n",
      "1/1 [==============================] - 0s 571us/step - loss: 11.2643 - accuracy: 0.0000e+00\n",
      "Epoch 73/100\n",
      "1/1 [==============================] - 0s 575us/step - loss: 11.2643 - accuracy: 0.0000e+00\n",
      "Epoch 74/100\n",
      "1/1 [==============================] - 0s 652us/step - loss: 11.2643 - accuracy: 0.0000e+00\n",
      "Epoch 75/100\n",
      "1/1 [==============================] - 0s 728us/step - loss: 11.2643 - accuracy: 0.0000e+00\n",
      "Epoch 76/100\n",
      "1/1 [==============================] - 0s 607us/step - loss: 11.2643 - accuracy: 0.0000e+00\n",
      "Epoch 77/100\n",
      "1/1 [==============================] - 0s 963us/step - loss: 11.2643 - accuracy: 0.0000e+00\n",
      "Epoch 78/100\n",
      "1/1 [==============================] - 0s 1ms/step - loss: 11.2643 - accuracy: 0.0000e+00\n",
      "Epoch 79/100\n"
     ]
    },
    {
     "name": "stdout",
     "output_type": "stream",
     "text": [
      "1/1 [==============================] - 0s 1000us/step - loss: 11.2643 - accuracy: 0.0000e+00\n",
      "Epoch 80/100\n",
      "1/1 [==============================] - 0s 1ms/step - loss: 11.2643 - accuracy: 0.0000e+00\n",
      "Epoch 81/100\n",
      "1/1 [==============================] - 0s 664us/step - loss: 11.2643 - accuracy: 0.0000e+00\n",
      "Epoch 82/100\n",
      "1/1 [==============================] - 0s 779us/step - loss: 11.2643 - accuracy: 0.0000e+00\n",
      "Epoch 83/100\n",
      "1/1 [==============================] - 0s 1ms/step - loss: 11.2643 - accuracy: 0.0000e+00\n",
      "Epoch 84/100\n",
      "1/1 [==============================] - 0s 1ms/step - loss: 11.2643 - accuracy: 0.0000e+00\n",
      "Epoch 85/100\n",
      "1/1 [==============================] - 0s 2ms/step - loss: 11.2643 - accuracy: 0.0000e+00\n",
      "Epoch 86/100\n",
      "1/1 [==============================] - 0s 640us/step - loss: 11.2643 - accuracy: 0.0000e+00\n",
      "Epoch 87/100\n",
      "1/1 [==============================] - 0s 840us/step - loss: 11.2643 - accuracy: 0.0000e+00\n",
      "Epoch 88/100\n",
      "1/1 [==============================] - 0s 1ms/step - loss: 11.2643 - accuracy: 0.0000e+00\n",
      "Epoch 89/100\n",
      "1/1 [==============================] - 0s 743us/step - loss: 11.2643 - accuracy: 0.0000e+00\n",
      "Epoch 90/100\n",
      "1/1 [==============================] - 0s 3ms/step - loss: 11.2643 - accuracy: 0.0000e+00\n",
      "Epoch 91/100\n",
      "1/1 [==============================] - 0s 2ms/step - loss: 11.2643 - accuracy: 0.0000e+00\n",
      "Epoch 92/100\n",
      "1/1 [==============================] - 0s 503us/step - loss: 11.2643 - accuracy: 0.0000e+00\n",
      "Epoch 93/100\n",
      "1/1 [==============================] - 0s 524us/step - loss: 11.2643 - accuracy: 0.0000e+00\n",
      "Epoch 94/100\n",
      "1/1 [==============================] - 0s 789us/step - loss: 11.2643 - accuracy: 0.0000e+00\n",
      "Epoch 95/100\n",
      "1/1 [==============================] - 0s 758us/step - loss: 11.2643 - accuracy: 0.0000e+00\n",
      "Epoch 96/100\n",
      "1/1 [==============================] - 0s 1ms/step - loss: 11.2643 - accuracy: 0.0000e+00\n",
      "Epoch 97/100\n",
      "1/1 [==============================] - 0s 1ms/step - loss: 11.2643 - accuracy: 0.0000e+00\n",
      "Epoch 98/100\n",
      "1/1 [==============================] - 0s 740us/step - loss: 11.2643 - accuracy: 0.0000e+00\n",
      "Epoch 99/100\n",
      "1/1 [==============================] - 0s 839us/step - loss: 11.2643 - accuracy: 0.0000e+00\n",
      "Epoch 100/100\n",
      "1/1 [==============================] - 0s 763us/step - loss: 11.2643 - accuracy: 0.0000e+00\n"
     ]
    },
    {
     "data": {
      "text/plain": [
       "<tensorflow.python.keras.callbacks.History at 0x7fa76ddd7040>"
      ]
     },
     "execution_count": 39,
     "metadata": {},
     "output_type": "execute_result"
    }
   ],
   "source": [
    "model.fit(train_data, train_label, epochs=100)"
   ]
  },
  {
   "cell_type": "code",
   "execution_count": 72,
   "metadata": {},
   "outputs": [],
   "source": [
    "from sklearn.linear_model import LinearRegression"
   ]
  },
  {
   "cell_type": "code",
   "execution_count": 73,
   "metadata": {},
   "outputs": [],
   "source": [
    "mod = LinearRegression()"
   ]
  },
  {
   "cell_type": "code",
   "execution_count": 74,
   "metadata": {},
   "outputs": [
    {
     "data": {
      "text/plain": [
       "LinearRegression()"
      ]
     },
     "execution_count": 74,
     "metadata": {},
     "output_type": "execute_result"
    }
   ],
   "source": [
    "mod.fit(train_data,train_label)"
   ]
  },
  {
   "cell_type": "code",
   "execution_count": 75,
   "metadata": {},
   "outputs": [
    {
     "data": {
      "text/plain": [
       "array([10.41454572, 21.1406041 , 19.65937909, 17.97427639, 14.58561906,\n",
       "       -2.16487097, -4.52771763])"
      ]
     },
     "execution_count": 75,
     "metadata": {},
     "output_type": "execute_result"
    }
   ],
   "source": [
    "mod.predict(X_test)"
   ]
  },
  {
   "cell_type": "code",
   "execution_count": null,
   "metadata": {},
   "outputs": [],
   "source": []
  },
  {
   "cell_type": "code",
   "execution_count": null,
   "metadata": {},
   "outputs": [],
   "source": []
  }
 ],
 "metadata": {
  "kernelspec": {
   "display_name": "Python 3",
   "language": "python",
   "name": "python3"
  },
  "language_info": {
   "codemirror_mode": {
    "name": "ipython",
    "version": 3
   },
   "file_extension": ".py",
   "mimetype": "text/x-python",
   "name": "python",
   "nbconvert_exporter": "python",
   "pygments_lexer": "ipython3",
   "version": "3.8.5"
  }
 },
 "nbformat": 4,
 "nbformat_minor": 4
}
